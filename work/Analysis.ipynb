{
 "cells": [
  {
   "cell_type": "markdown",
   "id": "7fc2807d-3a1b-4e04-9e1a-7bcb4e55323e",
   "metadata": {},
   "source": [
    "# Import"
   ]
  },
  {
   "cell_type": "code",
   "execution_count": 1,
   "id": "d35a3d78-7dfa-40e2-8bcf-8a4fec32aed9",
   "metadata": {},
   "outputs": [],
   "source": [
    "import pyspark\n",
    "from pyspark.sql.functions import isnan, when, count, col, isnull, avg, round, udf, to_date, when\n",
    "from pyspark.sql.types import DateType\n",
    "from datetime import datetime, timedelta"
   ]
  },
  {
   "cell_type": "code",
   "execution_count": 2,
   "id": "5e9075ca-5963-4325-80dc-66a60bf888c0",
   "metadata": {},
   "outputs": [],
   "source": [
    "def spark_shape(self):\n",
    "    return (self.count(), len(self.columns))\n",
    "pyspark.sql.dataframe.DataFrame.shape = spark_shape\n",
    "# https://stackoverflow.com/questions/39652767/how-to-find-the-size-or-shape-of-a-dataframe-in-pyspark"
   ]
  },
  {
   "cell_type": "code",
   "execution_count": 3,
   "id": "e797fa5c-d466-419a-a39d-550bfee30b1a",
   "metadata": {},
   "outputs": [],
   "source": [
    "import configparser\n",
    "import os\n",
    "config = configparser.ConfigParser()\n",
    "config.read('dwh.cfg')\n",
    "\n",
    "os.environ['AWS_ACCESS_KEY_ID']=config['AWS']['KEY']\n",
    "os.environ['AWS_SECRET_ACCESS_KEY']=config['AWS']['SECRET']"
   ]
  },
  {
   "cell_type": "code",
   "execution_count": 4,
   "id": "1d0c2131-e240-4ed2-be82-afab7b773540",
   "metadata": {},
   "outputs": [],
   "source": [
    "def sas_date_to_date(sas_date):\n",
    "    if (sas_date):\n",
    "        init_date = datetime(1960, 1, 1)\n",
    "        return init_date + timedelta(days=sas_date)\n",
    "    return None\n",
    "udf_sas_date_to_date = udf(lambda x: sas_date_to_date(x), DateType())"
   ]
  },
  {
   "cell_type": "code",
   "execution_count": 5,
   "id": "11886485-7fca-4039-98e9-8426ceb30461",
   "metadata": {},
   "outputs": [],
   "source": [
    "def yyyyMMdd_date_to_date(date):\n",
    "    try:\n",
    "        return to_date(date, 'yyyyMMdd')\n",
    "    except ValueError as e:\n",
    "        return None"
   ]
  },
  {
   "cell_type": "code",
   "execution_count": 6,
   "id": "5fc57c7c-483c-484a-95c2-171c5c921d43",
   "metadata": {},
   "outputs": [],
   "source": [
    "def MMddyyyy_date_to_date(date):\n",
    "    try:\n",
    "        today = datetime.now().today().strftime('%Y-%m-%d')\n",
    "        return when( (to_date(date, 'MMddyyyy') > \"1990-01-01\") & (to_date(date, 'MMddyyyy') < today), to_date(date, 'MMddyyyy')).otherwise(None)\n",
    "    #https://robertjblackburn.com/how-to-clean-bad-dates-moving-to-spark-3/\n",
    "    except ValueError as e:\n",
    "        return None"
   ]
  },
  {
   "cell_type": "markdown",
   "id": "49df56f9-d482-4821-b270-1db8d7eda624",
   "metadata": {},
   "source": [
    "## Start spark"
   ]
  },
  {
   "cell_type": "code",
   "execution_count": 22,
   "id": "8f6c86e7-953d-4c7d-b2e6-93cb518fa5bc",
   "metadata": {},
   "outputs": [],
   "source": [
    "from pyspark.sql import SparkSession \n",
    "spark = SparkSession.builder.\\\n",
    "        config(\"spark.executor.memory\", \"32g\").\\\n",
    "        config(\"spark.jars.packages\",\"saurfang:spark-sas7bdat:3.0.0-s_2.12,org.apache.hadoop:hadoop-aws:3.1.2\").\\\n",
    "        config(\"spark.hadoop.fs.s3a.access.key\", os.environ['AWS_ACCESS_KEY_ID']).\\\n",
    "        config(\"spark.jars.packages2\",\"org.apache.hadoop.fs.s3a.S3AFileSystem\").\\\n",
    "        config(\"spark.hadoop.fs.s3a.secret.key\", os.environ['AWS_SECRET_ACCESS_KEY'])\\\n",
    "        .enableHiveSupport().getOrCreate()"
   ]
  },
  {
   "cell_type": "markdown",
   "id": "8b2a9f74-02d3-4edd-ad7d-a583c12b8c87",
   "metadata": {},
   "source": [
    "## Immigration data"
   ]
  },
  {
   "cell_type": "markdown",
   "id": "4148820a-b7da-4ce5-8fb7-987757f38982",
   "metadata": {},
   "source": [
    "### CREATE DF"
   ]
  },
  {
   "cell_type": "code",
   "execution_count": 8,
   "id": "e9a420f3-496d-400c-8799-99a3bd777fdb",
   "metadata": {},
   "outputs": [],
   "source": [
    "months = ['jan', 'feb', 'mar', 'apr', 'may', 'jun', 'jul', 'aug', 'sep', 'oct', 'nov', 'dec']"
   ]
  },
  {
   "cell_type": "code",
   "execution_count": 9,
   "id": "5908ad4c-7beb-497b-9ca8-ad4aeb6dec1f",
   "metadata": {},
   "outputs": [],
   "source": [
    "d = {}\n",
    "for month in months:\n",
    "    d[month+'16'] = spark.read.format('com.github.saurfang.sas.spark').load(f'data/i94_{month}16_sub.sas7bdat')\n",
    "# https://stackoverflow.com/questions/30635145/create-multiple-dataframes-in-loop/30638956"
   ]
  },
  {
   "cell_type": "code",
   "execution_count": 10,
   "id": "582c4848-6ca3-46e1-bb15-b1934649e797",
   "metadata": {},
   "outputs": [
    {
     "name": "stderr",
     "output_type": "stream",
     "text": [
      "21/08/02 23:46:24 WARN package: Truncated the string representation of a plan since it was too large. This behavior can be adjusted by setting 'spark.sql.debug.maxToStringFields'.\n",
      "                                                                                \r"
     ]
    },
    {
     "name": "stdout",
     "output_type": "stream",
     "text": [
      "jan16 2847924 28\n"
     ]
    },
    {
     "name": "stderr",
     "output_type": "stream",
     "text": [
      "                                                                                \r"
     ]
    },
    {
     "name": "stdout",
     "output_type": "stream",
     "text": [
      "feb16 2570543 28\n"
     ]
    },
    {
     "name": "stderr",
     "output_type": "stream",
     "text": [
      "                                                                                \r"
     ]
    },
    {
     "name": "stdout",
     "output_type": "stream",
     "text": [
      "mar16 3157072 28\n"
     ]
    },
    {
     "name": "stderr",
     "output_type": "stream",
     "text": [
      "                                                                                \r"
     ]
    },
    {
     "name": "stdout",
     "output_type": "stream",
     "text": [
      "apr16 3096313 28\n"
     ]
    },
    {
     "name": "stderr",
     "output_type": "stream",
     "text": [
      "                                                                                \r"
     ]
    },
    {
     "name": "stdout",
     "output_type": "stream",
     "text": [
      "may16 3444249 28\n"
     ]
    },
    {
     "name": "stderr",
     "output_type": "stream",
     "text": [
      "                                                                                \r"
     ]
    },
    {
     "name": "stdout",
     "output_type": "stream",
     "text": [
      "jun16 3574989 34\n"
     ]
    },
    {
     "name": "stderr",
     "output_type": "stream",
     "text": [
      "                                                                                \r"
     ]
    },
    {
     "name": "stdout",
     "output_type": "stream",
     "text": [
      "jul16 4265031 28\n"
     ]
    },
    {
     "name": "stderr",
     "output_type": "stream",
     "text": [
      "                                                                                \r"
     ]
    },
    {
     "name": "stdout",
     "output_type": "stream",
     "text": [
      "aug16 4103570 28\n"
     ]
    },
    {
     "name": "stderr",
     "output_type": "stream",
     "text": [
      "                                                                                \r"
     ]
    },
    {
     "name": "stdout",
     "output_type": "stream",
     "text": [
      "sep16 3733786 28\n"
     ]
    },
    {
     "name": "stderr",
     "output_type": "stream",
     "text": [
      "                                                                                \r"
     ]
    },
    {
     "name": "stdout",
     "output_type": "stream",
     "text": [
      "oct16 3649136 28\n"
     ]
    },
    {
     "name": "stderr",
     "output_type": "stream",
     "text": [
      "                                                                                \r"
     ]
    },
    {
     "name": "stdout",
     "output_type": "stream",
     "text": [
      "nov16 2914926 28\n"
     ]
    },
    {
     "name": "stderr",
     "output_type": "stream",
     "text": [
      "[Stage 22:====================================================>   (15 + 1) / 16]\r"
     ]
    },
    {
     "name": "stdout",
     "output_type": "stream",
     "text": [
      "dec16 3432990 28\n",
      "40790529\n",
      "CPU times: user 136 ms, sys: 53.5 ms, total: 189 ms\n",
      "Wall time: 1min 32s\n"
     ]
    },
    {
     "name": "stderr",
     "output_type": "stream",
     "text": [
      "                                                                                \r"
     ]
    }
   ],
   "source": [
    "%%time\n",
    "count_row = 0\n",
    "df_row = {}\n",
    "for name, df in d.items():\n",
    "    row, col = df.shape()\n",
    "    count_row = count_row + row\n",
    "    print(name, row, col)\n",
    "    df_row[name] = row\n",
    "print(count_row)"
   ]
  },
  {
   "cell_type": "markdown",
   "id": "f9502196-0d14-44e7-8e49-159d21742d2c",
   "metadata": {},
   "source": [
    "### Drop excess column because d['jun16'] has 34 columns."
   ]
  },
  {
   "cell_type": "code",
   "execution_count": 11,
   "id": "89be298b-8a80-4cee-8d3f-86af115b3079",
   "metadata": {},
   "outputs": [
    {
     "name": "stderr",
     "output_type": "stream",
     "text": [
      "                                                                                \r"
     ]
    },
    {
     "data": {
      "text/plain": [
       "(3574989, 34)"
      ]
     },
     "execution_count": 11,
     "metadata": {},
     "output_type": "execute_result"
    }
   ],
   "source": [
    "d['jun16'].shape()"
   ]
  },
  {
   "cell_type": "code",
   "execution_count": 35,
   "id": "01d1aa67-7657-4e09-93f0-0756922ca00f",
   "metadata": {},
   "outputs": [],
   "source": [
    "d['jun16'] = d['jun16'].drop('validres','delete_days','delete_mexl','delete_dup','delete_visa','delete_recdup') "
   ]
  },
  {
   "cell_type": "markdown",
   "id": "082f4d73-8383-47e7-827b-ba7940bab41e",
   "metadata": {},
   "source": [
    "### CHECK NULL"
   ]
  },
  {
   "cell_type": "code",
   "execution_count": 13,
   "id": "86b56e3c-2f0e-4f3d-802b-b7479e1621f6",
   "metadata": {},
   "outputs": [],
   "source": [
    "d_count_null = {}\n",
    "for name, df in d.items():\n",
    "    d_count_null[name] = df.select([round((count(when(isnull(c), c))/df_row[name]*100),2).alias(c) for c in df.columns])"
   ]
  },
  {
   "cell_type": "code",
   "execution_count": 14,
   "id": "1bbd159b-c629-4f04-adaa-8e0bf8452ab2",
   "metadata": {},
   "outputs": [],
   "source": [
    "df_null_all = d_count_null['jan16']\n",
    "for name, df in d.items():\n",
    "    df_null_all = df_null_all.union(d_count_null[name])"
   ]
  },
  {
   "cell_type": "code",
   "execution_count": 15,
   "id": "b813b40d-b06f-4c82-8b43-4cd5201977f7",
   "metadata": {},
   "outputs": [
    {
     "name": "stderr",
     "output_type": "stream",
     "text": [
      "[Stage 37:=====================================================>  (18 + 1) / 19]\r"
     ]
    },
    {
     "name": "stdout",
     "output_type": "stream",
     "text": [
      "+-----+-----+------+------+------+-------+-------+-------+-------+-------+------+-------+-----+--------+--------+-----+-------+-------+-------+-------+-------+-------+------+------+-------+------+-----+--------+\n",
      "|cicid|i94yr|i94mon|i94cit|i94res|i94port|arrdate|i94mode|i94addr|depdate|i94bir|i94visa|count|dtadfile|visapost|occup|entdepa|entdepd|entdepu|matflag|biryear|dtaddto|gender|insnum|airline|admnum|fltno|visatype|\n",
      "+-----+-----+------+------+------+-------+-------+-------+-------+-------+------+-------+-----+--------+--------+-----+-------+-------+-------+-------+-------+-------+------+------+-------+------+-----+--------+\n",
      "|  0.0|  0.0|   0.0|   0.0|   0.0|    0.0|    0.0|    0.0|   6.22|  18.35|  0.04|    0.0|  0.0|    3.18|   48.68| 98.4|    0.0|  18.32|  100.0|  18.32|   0.04|   0.02|  7.62| 95.13|   2.15|   0.0| 0.43|     0.0|\n",
      "|  0.0|  0.0|   0.0|   0.0|   0.0|    0.0|    0.0|    0.0|   6.22|  18.35|  0.04|    0.0|  0.0|    3.18|   48.68| 98.4|    0.0|  18.32|  100.0|  18.32|   0.04|   0.02|  7.62| 95.13|   2.15|   0.0| 0.43|     0.0|\n",
      "|  0.0|  0.0|   0.0|   0.0|   0.0|    0.0|    0.0|    0.0|   5.81|  11.43|  0.04|    0.0|  0.0|    1.58|   59.83|99.69|    0.0|  11.39|  100.0|  11.39|   0.04|   0.02|  11.5| 94.71|   2.72|   0.0| 0.32|     0.0|\n",
      "|  0.0|  0.0|   0.0|   0.0|   0.0|    0.0|    0.0|    0.0|   5.18|   4.41|  0.03|    0.0|  0.0|     0.0|   60.51|99.56|    0.0|   4.33|  99.99|   4.33|   0.03|   0.02| 11.82| 95.66|   3.22|   0.0| 0.39|     0.0|\n",
      "|  0.0|  0.0|   0.0|   0.0|   0.0|    0.0|    0.0|   0.01|   4.93|    4.6|  0.03|    0.0|  0.0|     0.0|   60.76|99.74|   0.01|   4.47|  99.99|   4.47|   0.03|   0.02| 13.38| 96.33|    2.7|   0.0| 0.63|     0.0|\n",
      "|  0.0|  0.0|   0.0|   0.0|   0.0|    0.0|    0.0|    0.0|   5.01|   5.36|  0.02|    0.0|  0.0|     0.0|   58.07|99.73|    0.0|    5.3|  99.98|    5.3|   0.02|   0.01| 14.59| 96.77|   2.89|   0.0| 0.44|     0.0|\n",
      "|  0.0|  0.0|   0.0|  0.01|   0.0|    0.0|    0.0|   1.71|    5.2|   8.03|  0.02|    0.0|  0.0|     0.0|   58.88|99.71|   0.05|    9.6|  99.98|   7.96|   0.02|   1.72| 16.29| 96.73|   4.43|   0.0| 2.02|     0.0|\n",
      "|  0.0|  0.0|   0.0|  0.07|   0.0|    0.0|    0.0|   0.24|   4.44|   8.82|  0.02|    0.0|  0.0|     0.0|   68.21|99.69|    0.0|   8.84|  99.96|   8.66|   0.02|   0.65|  9.07| 66.81|   4.07|   0.0| 2.45|     0.0|\n",
      "|  0.0|  0.0|   0.0|  0.15|   0.0|    0.0|    0.0|   0.05|    4.5|  15.88|  0.02|    0.0|  0.0|     0.0|   57.95|98.97|    0.0|  15.58|   99.9|  15.54|   0.02|   0.13|  5.68| 87.09|   3.55|   0.0| 0.57|     0.0|\n",
      "|  0.0|  0.0|   0.0|  0.45|   0.0|    0.0|    0.0|    0.0|   4.46|    5.1|  0.02|    0.0|  0.0|     0.0|   56.89|99.54|    0.0|   4.65|  99.95|   4.65|   0.02|   0.02|  2.32| 77.23|   3.01|   0.0| 0.39|     0.0|\n",
      "|  0.0|  0.0|   0.0|  0.01|   0.0|    0.0|    0.0|    0.0|   4.42|   3.96|  0.02|    0.0|  0.0|     0.0|   63.56|99.79|    0.0|   3.51|  99.97|   3.51|   0.02|   0.03|  17.6| 95.98|   3.21|   0.0| 0.49|     0.0|\n",
      "|  0.0|  0.0|   0.0|  0.03|   0.0|    0.0|    0.0|    0.0|   5.42|   5.51|  0.02|    0.0|  0.0|     0.0|   58.17|99.72|    0.0|   5.15|  99.97|   5.15|   0.02|   0.05|  9.56|  83.3|   3.12|   0.0| 0.63|     0.0|\n",
      "|  0.0|  0.0|   0.0|  0.03|   0.0|    0.0|    0.0|    0.0|   4.86|   6.26|  0.02|    0.0|  0.0|     0.0|   51.98|99.72|    0.0|   5.94|  99.95|   5.94|   0.02|   0.02|  1.97|  72.9|   2.73|   0.0| 0.45|     0.0|\n",
      "+-----+-----+------+------+------+-------+-------+-------+-------+-------+------+-------+-----+--------+--------+-----+-------+-------+-------+-------+-------+-------+------+------+-------+------+-----+--------+\n",
      "\n",
      "CPU times: user 190 ms, sys: 57.9 ms, total: 248 ms\n",
      "Wall time: 2min 44s\n"
     ]
    },
    {
     "name": "stderr",
     "output_type": "stream",
     "text": [
      "                                                                                \r"
     ]
    }
   ],
   "source": [
    "%%time\n",
    "df_null_all.show()"
   ]
  },
  {
   "cell_type": "markdown",
   "id": "1cea6bfa-d205-47c6-8bca-171052b75441",
   "metadata": {},
   "source": [
    "## DROP \n",
    "### \"occup\" because too many null and we cannot conclude that people do not have a jobs.\n",
    "### \"count\" because it is used for aggregation. we dont need it anymore.\n",
    "### \"i94bir\" because it is relative."
   ]
  },
  {
   "cell_type": "code",
   "execution_count": 36,
   "id": "b8aa3856-6c45-449a-ac1a-42cb712ef664",
   "metadata": {},
   "outputs": [],
   "source": [
    "for name, df in d.items():\n",
    "    d[name] = d[name].drop('occup', 'visapost', 'insnum', 'count', \"i94bir\") ## , 'entdepu' i94bir  is relative"
   ]
  },
  {
   "cell_type": "code",
   "execution_count": 17,
   "id": "e5a81133-e83d-46bf-9a34-414f2a616fab",
   "metadata": {},
   "outputs": [
    {
     "name": "stdout",
     "output_type": "stream",
     "text": [
      "root\n",
      " |-- cicid: double (nullable = true)\n",
      " |-- i94yr: double (nullable = true)\n",
      " |-- i94mon: double (nullable = true)\n",
      " |-- i94cit: double (nullable = true)\n",
      " |-- i94res: double (nullable = true)\n",
      " |-- i94port: string (nullable = true)\n",
      " |-- arrdate: double (nullable = true)\n",
      " |-- i94mode: double (nullable = true)\n",
      " |-- i94addr: string (nullable = true)\n",
      " |-- depdate: double (nullable = true)\n",
      " |-- i94visa: double (nullable = true)\n",
      " |-- dtadfile: string (nullable = true)\n",
      " |-- entdepa: string (nullable = true)\n",
      " |-- entdepd: string (nullable = true)\n",
      " |-- entdepu: string (nullable = true)\n",
      " |-- matflag: string (nullable = true)\n",
      " |-- biryear: double (nullable = true)\n",
      " |-- dtaddto: string (nullable = true)\n",
      " |-- gender: string (nullable = true)\n",
      " |-- airline: string (nullable = true)\n",
      " |-- admnum: double (nullable = true)\n",
      " |-- fltno: string (nullable = true)\n",
      " |-- visatype: string (nullable = true)\n",
      "\n"
     ]
    }
   ],
   "source": [
    "d['jun16'].printSchema()"
   ]
  },
  {
   "cell_type": "markdown",
   "id": "dff11d4f-cfbf-4e3d-8cc2-b4fb0f0f3f38",
   "metadata": {},
   "source": [
    "## Write immigration data to s3"
   ]
  },
  {
   "cell_type": "code",
   "execution_count": 37,
   "id": "2a618e37-f69f-4ce3-9fbd-b0988f4691cf",
   "metadata": {},
   "outputs": [],
   "source": [
    "for month in months:\n",
    "#     d[month+'16'] = spark.read.format('com.github.saurfang.sas.spark').load(f'data/i94_{month}16_sub.sas7bdat')\n",
    "    d[month+'16'] = d[month+'16'].withColumn(\"arrdate\",udf_sas_date_to_date(d[month+'16'].arrdate))\n",
    "    d[month+'16'] = d[month+'16'].withColumn(\"depdate\",udf_sas_date_to_date(d[month+'16'].depdate).cast(DateType()))\n",
    "    d[month+'16'] = d[month+'16'].withColumn(\"dtadfile\", yyyyMMdd_date_to_date(d[month+'16'].dtadfile))\n",
    "    d[month+'16'] = d[month+'16'].withColumn(\"dtaddto\", MMddyyyy_date_to_date(d[month+'16'].dtaddto))\n",
    "    \n",
    "    d[month+'16'] = d[month+'16'].withColumn(\"i94yr_partition\",d[month+'16'].i94yr)\n",
    "    d[month+'16'] = d[month+'16'].withColumn(\"i94mon_partition\",d[month+'16'].i94mon)\n",
    "    d[month+'16'] = d[month+'16'].withColumn(\"arrdate_partition\",d[month+'16'].arrdate)"
   ]
  },
  {
   "cell_type": "code",
   "execution_count": 19,
   "id": "bfa3eace-7238-4f82-a489-50e068a94158",
   "metadata": {},
   "outputs": [
    {
     "name": "stderr",
     "output_type": "stream",
     "text": [
      "[Stage 41:============================================>           (11 + 3) / 14]\r"
     ]
    },
    {
     "name": "stdout",
     "output_type": "stream",
     "text": [
      "+-----+-----+------+------+------+-------+-------+-------+-------+-------+-------+--------+-------+-------+-------+-------+-------+-------+------+-------+------+-----+--------+---------------+----------------+-----------------+\n",
      "|cicid|i94yr|i94mon|i94cit|i94res|i94port|arrdate|i94mode|i94addr|depdate|i94visa|dtadfile|entdepa|entdepd|entdepu|matflag|biryear|dtaddto|gender|airline|admnum|fltno|visatype|i94yr_partition|i94mon_partition|arrdate_partition|\n",
      "+-----+-----+------+------+------+-------+-------+-------+-------+-------+-------+--------+-------+-------+-------+-------+-------+-------+------+-------+------+-----+--------+---------------+----------------+-----------------+\n",
      "+-----+-----+------+------+------+-------+-------+-------+-------+-------+-------+--------+-------+-------+-------+-------+-------+-------+------+-------+------+-----+--------+---------------+----------------+-----------------+\n",
      "\n"
     ]
    },
    {
     "name": "stderr",
     "output_type": "stream",
     "text": [
      "                                                                                \r"
     ]
    }
   ],
   "source": [
    "d['aug16'].filter(d['aug16'].dtaddto < \"1990-01-01\").show() ## filter date before 1990 because s3 cannot be written with invalid date value."
   ]
  },
  {
   "cell_type": "code",
   "execution_count": null,
   "id": "d8ce921d-ffd3-41dd-8ae0-58213da97e6b",
   "metadata": {},
   "outputs": [],
   "source": [
    "d['aug16'].groupBy(\"dtaddto\").count().orderBy('dtaddto', ascending=False).show(1,truncate=False) ## find which date is before 1990"
   ]
  },
  {
   "cell_type": "code",
   "execution_count": null,
   "id": "1d922728-c770-40e3-be67-1cb168557742",
   "metadata": {},
   "outputs": [],
   "source": [
    "d[month_str+year].write.partitionBy(\"i94yr\",\"i94mon\",\"arrdate\").mode(\"append\").parquet(\"s3a://ohmohmprde/\" + \"df_immigration\")"
   ]
  },
  {
   "cell_type": "markdown",
   "id": "9a1e91a5-346b-42a1-8daa-d3ba7606ef52",
   "metadata": {},
   "source": [
    "### FIND duplicated value from all months "
   ]
  },
  {
   "cell_type": "code",
   "execution_count": 46,
   "id": "472a72e3-f446-4911-a46a-aaed0090c9e0",
   "metadata": {},
   "outputs": [],
   "source": [
    "for month in months:\n",
    "    d[month+'16'] = spark.read.format('com.github.saurfang.sas.spark').load(f'data/i94_{month}16_sub.sas7bdat')"
   ]
  },
  {
   "cell_type": "code",
   "execution_count": 47,
   "id": "71fbbed9-708e-4377-b8a9-2539e7ce8ea2",
   "metadata": {},
   "outputs": [],
   "source": [
    "for name, df in d.items():\n",
    "    d[name] = d[name].drop('occup', 'visapost', 'insnum', 'count', \"i94bir\") ## , 'entdepu' i94bir  is relative"
   ]
  },
  {
   "cell_type": "code",
   "execution_count": 48,
   "id": "b5a19f15-8747-4a9f-8032-3f11549d3d1f",
   "metadata": {},
   "outputs": [],
   "source": [
    "d['jun16'] = d['jun16'].drop('validres','delete_days','delete_mexl','delete_dup','delete_visa','delete_recdup') "
   ]
  },
  {
   "cell_type": "code",
   "execution_count": 49,
   "id": "8a02937f-281c-4b39-beca-b6edd63d4dc0",
   "metadata": {},
   "outputs": [],
   "source": [
    "from pyspark.sql.types import StructType,StructField, StringType, DoubleType\n",
    "data2 = [(1.0, 1.0, 1.0,1.0, 1.0, \"test\", \\\n",
    "          1.0, 1.0, \"test\", 1.0, 1.0, \"test\", \\\n",
    "          \"test\", \"test\", \"test\", \"test\", 1.0, \"test\", \\\n",
    "          \"test\", \"test\", 1.0, \"test\", \"test\"),\n",
    "  ]\n",
    "\n",
    "schema = StructType([ \\\n",
    "    StructField(\"cicid\",DoubleType(),True), \\\n",
    "    StructField(\"i94yr\",DoubleType(),True), \\\n",
    "    StructField(\"i94mon\",DoubleType(),True), \\\n",
    "    StructField(\"i94cit\", DoubleType(), True), \\\n",
    "    StructField(\"i94res\", DoubleType(), True), \\\n",
    "    StructField(\"i94port\", StringType(), True), \\\n",
    "\n",
    "    StructField(\"arrdate\",DoubleType(),True), \\\n",
    "    StructField(\"i94mode\",DoubleType(),True), \\\n",
    "    StructField(\"i94addr\",StringType(),True), \\\n",
    "    StructField(\"depdate\", DoubleType(), True), \\\n",
    "    StructField(\"i94visa\", DoubleType(), True), \\\n",
    "    StructField(\"dtadfile\", StringType(), True), \\\n",
    "                     \n",
    "    StructField(\"entdepa\",StringType(),True), \\\n",
    "    StructField(\"entdepd\",StringType(),True), \\\n",
    "    StructField(\"entdepu\",StringType(),True), \\\n",
    "    StructField(\"matflag\", StringType(), True), \\\n",
    "    StructField(\"biryear\", DoubleType(), True), \\\n",
    "    StructField(\"dtaddto\", StringType(), True), \\\n",
    "                     \n",
    "    StructField(\"gender\",StringType(),True), \\\n",
    "    StructField(\"airline\",StringType(),True), \\\n",
    "    StructField(\"admnum\",DoubleType(),True), \\\n",
    "    StructField(\"fltno\", StringType(), True), \\\n",
    "    StructField(\"visatype\", StringType(), True), \\\n",
    "  ])\n",
    " \n",
    "df_concat2 = spark.createDataFrame(data=data2,schema=schema)"
   ]
  },
  {
   "cell_type": "code",
   "execution_count": 50,
   "id": "66a4b0c6-6052-4baf-b0fb-8671ecfd9c3e",
   "metadata": {},
   "outputs": [],
   "source": [
    "for name, df in d.items():\n",
    "    df_concat2 = df_concat2.union(d[name])"
   ]
  },
  {
   "cell_type": "code",
   "execution_count": 51,
   "id": "0e37d4ea-c353-4751-ad87-6d59c3bdfe8b",
   "metadata": {},
   "outputs": [
    {
     "name": "stderr",
     "output_type": "stream",
     "text": [
      "                                                                                \r"
     ]
    },
    {
     "data": {
      "text/plain": [
       "40790530"
      ]
     },
     "execution_count": 51,
     "metadata": {},
     "output_type": "execute_result"
    }
   ],
   "source": [
    "df_concat2.count()"
   ]
  },
  {
   "cell_type": "code",
   "execution_count": 52,
   "id": "c1a2138a-99de-4286-9fd9-040eefbe8f42",
   "metadata": {},
   "outputs": [
    {
     "name": "stderr",
     "output_type": "stream",
     "text": [
      "                                                                                \r"
     ]
    },
    {
     "data": {
      "text/plain": [
       "40273677"
      ]
     },
     "execution_count": 52,
     "metadata": {},
     "output_type": "execute_result"
    }
   ],
   "source": [
    "df_concat2.select(\"admnum\").distinct().count()"
   ]
  },
  {
   "cell_type": "code",
   "execution_count": 53,
   "id": "171e6375-9a7a-4ee3-8595-ee6e50c6183e",
   "metadata": {},
   "outputs": [
    {
     "name": "stderr",
     "output_type": "stream",
     "text": [
      "                                                                                \r"
     ]
    },
    {
     "data": {
      "text/plain": [
       "7380352"
      ]
     },
     "execution_count": 53,
     "metadata": {},
     "output_type": "execute_result"
    }
   ],
   "source": [
    "df_concat2.select(\"cicid\").distinct().count()"
   ]
  },
  {
   "cell_type": "code",
   "execution_count": 54,
   "id": "0542e492-a0b2-46e8-b7fa-df310c19c9e6",
   "metadata": {},
   "outputs": [
    {
     "name": "stderr",
     "output_type": "stream",
     "text": [
      "[Stage 53:====================================================> (196 + 4) / 200]\r"
     ]
    },
    {
     "name": "stdout",
     "output_type": "stream",
     "text": [
      "+--------------+---------+-----+\n",
      "|admnum        |cicid    |count|\n",
      "+--------------+---------+-----+\n",
      "|9.451269885E9 |1668559.0|2    |\n",
      "|3.09865585E8  |36105.0  |1    |\n",
      "|3.12757685E8  |336.0    |1    |\n",
      "|4.42326685E8  |649.0    |1    |\n",
      "|3.31405385E8  |978.0    |1    |\n",
      "|4.22004085E8  |1049.0   |1    |\n",
      "|3.38600285E8  |1223.0   |1    |\n",
      "|4.16907485E8  |1712.0   |1    |\n",
      "|3.37632285E8  |1783.0   |1    |\n",
      "|3.86940785E8  |2061.0   |1    |\n",
      "|3.04249085E8  |2190.0   |1    |\n",
      "|3.60613085E8  |2355.0   |1    |\n",
      "|3.85515285E8  |2674.0   |1    |\n",
      "|3.34743985E8  |3130.0   |1    |\n",
      "|3.91743085E8  |4109.0   |1    |\n",
      "|4.08960985E8  |4492.0   |1    |\n",
      "|3.00697085E8  |4532.0   |1    |\n",
      "|3.81505885E8  |4554.0   |1    |\n",
      "|3.32396285E8  |4915.0   |1    |\n",
      "|4.29965385E8  |5022.0   |1    |\n",
      "|4.07627085E8  |5317.0   |1    |\n",
      "|4.05769085E8  |5368.0   |1    |\n",
      "|3.08373185E8  |5387.0   |1    |\n",
      "|3.76426585E8  |5513.0   |1    |\n",
      "|3.03877985E8  |5517.0   |1    |\n",
      "|4.29362185E8  |5940.0   |1    |\n",
      "|3.35306785E8  |6609.0   |1    |\n",
      "|4.30991085E8  |7681.0   |1    |\n",
      "|3.19781085E8  |7754.0   |1    |\n",
      "|3.39056885E8  |7906.0   |1    |\n",
      "|3.30585985E8  |8323.0   |1    |\n",
      "|3.01381885E8  |8738.0   |1    |\n",
      "|3.20552085E8  |8964.0   |1    |\n",
      "|3.31239485E8  |9156.0   |1    |\n",
      "|4.35800985E8  |9464.0   |1    |\n",
      "|3.80806385E8  |9671.0   |1    |\n",
      "|6.562617703E10|10049.0  |1    |\n",
      "|3.10256085E8  |10126.0  |1    |\n",
      "|3.10530085E8  |10261.0  |1    |\n",
      "|3.17773685E8  |10347.0  |1    |\n",
      "|4.14487485E8  |11489.0  |1    |\n",
      "|3.24908085E8  |11821.0  |1    |\n",
      "|3.87016885E8  |12321.0  |1    |\n",
      "|3.91221585E8  |12374.0  |1    |\n",
      "|4.28406085E8  |14057.0  |1    |\n",
      "|3.92120885E8  |14417.0  |1    |\n",
      "|3.83985385E8  |14642.0  |1    |\n",
      "|3.90521185E8  |14655.0  |1    |\n",
      "|7.074268303E10|14740.0  |1    |\n",
      "|3.31752885E8  |15334.0  |1    |\n",
      "|4.10910685E8  |15594.0  |1    |\n",
      "|4.13585485E8  |16087.0  |1    |\n",
      "|3.68652285E8  |17801.0  |1    |\n",
      "|4.09619085E8  |18108.0  |1    |\n",
      "|3.70707485E8  |18760.0  |1    |\n",
      "|3.34456085E8  |18905.0  |1    |\n",
      "|3.25190385E8  |19017.0  |1    |\n",
      "|2.83996285E8  |19195.0  |1    |\n",
      "|2.83616885E8  |19291.0  |1    |\n",
      "|4.43814385E8  |20251.0  |1    |\n",
      "|3.90963085E8  |20360.0  |1    |\n",
      "|4.24446085E8  |20400.0  |1    |\n",
      "|3.03351785E8  |21414.0  |1    |\n",
      "|2.93477385E8  |21483.0  |1    |\n",
      "|3.09411885E8  |21534.0  |1    |\n",
      "|3.46772385E8  |22005.0  |1    |\n",
      "|3.72934085E8  |22508.0  |1    |\n",
      "|3.26522285E8  |22938.0  |1    |\n",
      "|3.13241685E8  |23185.0  |1    |\n",
      "|4.36082285E8  |23698.0  |1    |\n",
      "|3.44410085E8  |23815.0  |1    |\n",
      "|4.28410785E8  |23851.0  |1    |\n",
      "|2.91900785E8  |24393.0  |1    |\n",
      "|3.42461285E8  |25263.0  |1    |\n",
      "|7.413905693E10|25444.0  |1    |\n",
      "|3.36815585E8  |25664.0  |1    |\n",
      "|3.69478185E8  |25982.0  |1    |\n",
      "|3.84969985E8  |27967.0  |1    |\n",
      "|3.26618585E8  |28135.0  |1    |\n",
      "|2.85498785E8  |28333.0  |1    |\n",
      "|3.93012785E8  |28388.0  |1    |\n",
      "|7.209257473E10|28582.0  |1    |\n",
      "|3.73437285E8  |28638.0  |1    |\n",
      "|3.97881085E8  |28949.0  |1    |\n",
      "|2.83606785E8  |28959.0  |1    |\n",
      "|3.53820685E8  |29119.0  |1    |\n",
      "|3.99827185E8  |29203.0  |1    |\n",
      "|3.99828085E8  |29205.0  |1    |\n",
      "|3.06464785E8  |29454.0  |1    |\n",
      "|3.01045385E8  |30029.0  |1    |\n",
      "|3.29229185E8  |30695.0  |1    |\n",
      "|2.89921685E8  |31108.0  |1    |\n",
      "|2.88936185E8  |31176.0  |1    |\n",
      "|4.06957085E8  |32638.0  |1    |\n",
      "|3.44283685E8  |33225.0  |1    |\n",
      "|3.48297785E8  |33251.0  |1    |\n",
      "|3.67715485E8  |33280.0  |1    |\n",
      "|4.28035885E8  |33890.0  |1    |\n",
      "|3.11077385E8  |34521.0  |1    |\n",
      "|3.16731385E8  |35176.0  |1    |\n",
      "+--------------+---------+-----+\n",
      "only showing top 100 rows\n",
      "\n"
     ]
    },
    {
     "name": "stderr",
     "output_type": "stream",
     "text": [
      "                                                                                \r"
     ]
    }
   ],
   "source": [
    "df_concat2.groupBy(\"admnum\",\"cicid\").count().orderBy('count', ascending=False).show(100,truncate=False)"
   ]
  },
  {
   "cell_type": "code",
   "execution_count": 55,
   "id": "9973ed7c-9e06-49bf-b1e2-5118b76c247b",
   "metadata": {},
   "outputs": [
    {
     "name": "stderr",
     "output_type": "stream",
     "text": [
      "[Stage 58:======================================================> (73 + 2) / 75]\r"
     ]
    },
    {
     "name": "stdout",
     "output_type": "stream",
     "text": [
      "+---------+------+------+------+------+-------+-------+-------+-------+-------+-------+--------+-------+-------+-------+-------+-------+--------+------+-------+-------------+-----+--------+\n",
      "|    cicid| i94yr|i94mon|i94cit|i94res|i94port|arrdate|i94mode|i94addr|depdate|i94visa|dtadfile|entdepa|entdepd|entdepu|matflag|biryear| dtaddto|gender|airline|       admnum|fltno|visatype|\n",
      "+---------+------+------+------+------+-------+-------+-------+-------+-------+-------+--------+-------+-------+-------+-------+-------+--------+------+-------+-------------+-----+--------+\n",
      "|1668559.0|2016.0|   9.0| 438.0| 438.0|    NYC|20705.0|    1.0|     NY|20728.0|    2.0|20160908|      O|      O|   null|      M| 1990.0|12062016|     F|     TK|9.451269885E9|    3|      WT|\n",
      "|1668559.0|2016.0|  10.0| 438.0| 438.0|    CHI|20735.0|    1.0|     IL|20767.0|    2.0|20161008|      H|      O|   null|      M| 1990.0|12062016|     F|     RS|9.451269885E9|07595|      WT|\n",
      "+---------+------+------+------+------+-------+-------+-------+-------+-------+-------+--------+-------+-------+-------+-------+-------+--------+------+-------+-------------+-----+--------+\n",
      "\n"
     ]
    },
    {
     "name": "stderr",
     "output_type": "stream",
     "text": [
      "                                                                                \r"
     ]
    }
   ],
   "source": [
    "df_concat2.filter((df_concat2.admnum == 9.451269885E9) & (df_concat2.cicid == 1668559.0)).show()"
   ]
  },
  {
   "cell_type": "code",
   "execution_count": 56,
   "id": "f61caf71-1c37-4dbf-9d40-4ad84b5d2fc1",
   "metadata": {},
   "outputs": [
    {
     "name": "stderr",
     "output_type": "stream",
     "text": [
      "                                                                                \r"
     ]
    },
    {
     "data": {
      "text/plain": [
       "40790530"
      ]
     },
     "execution_count": 56,
     "metadata": {},
     "output_type": "execute_result"
    }
   ],
   "source": [
    "df_concat2.select(\"cicid\",\"i94yr\",\"i94mon\").distinct().count()"
   ]
  },
  {
   "cell_type": "markdown",
   "id": "dc5286e3-f167-43c2-a6a0-562d73cd1096",
   "metadata": {},
   "source": [
    "## DESCRIPTION"
   ]
  },
  {
   "cell_type": "code",
   "execution_count": 9,
   "id": "1803d4c6-7b68-4cab-abaf-71af8e454dd2",
   "metadata": {},
   "outputs": [],
   "source": [
    "import pandas as pd"
   ]
  },
  {
   "cell_type": "code",
   "execution_count": 11,
   "id": "b204a565-7b85-45ab-94fc-0d33bf59b70e",
   "metadata": {},
   "outputs": [],
   "source": [
    "with open('data/I94_SAS_Labels_Descriptions.SAS') as f:\n",
    "    f_content = f.read()\n",
    "    f_content = f_content.replace('\\t', '')"
   ]
  },
  {
   "cell_type": "code",
   "execution_count": 12,
   "id": "f76760e7-c72c-4b93-9dbc-1139cc44c597",
   "metadata": {},
   "outputs": [],
   "source": [
    "def code_mapper(file, idx):\n",
    "    f_content2 = f_content[f_content.index(idx):]\n",
    "    f_content2 = f_content2[:f_content2.index(';')].split('\\n')\n",
    "    f_content2 = [i.replace(\"'\", \"\") for i in f_content2]\n",
    "    dic = [i.split('=') for i in f_content2[1:]]\n",
    "    dic = dict([i[0].strip(), i[1].strip()] for i in dic if len(i) == 2)\n",
    "    return dic\n",
    "# https://knowledge.udacity.com/questions/125439"
   ]
  },
  {
   "cell_type": "code",
   "execution_count": 13,
   "id": "a3dbedd9-58ca-4c7c-af16-d776e2480e50",
   "metadata": {},
   "outputs": [],
   "source": [
    "i94cit_res = code_mapper(f_content, \"i94cntyl\")\n",
    "i94port = code_mapper(f_content, \"i94prtl\")\n",
    "i94mode = code_mapper(f_content, \"i94model\")\n",
    "i94addr = code_mapper(f_content, \"i94addrl\")\n",
    "i94visa = {'1':'Business',\n",
    "'2': 'Pleasure',\n",
    "'3' : 'Student'}"
   ]
  },
  {
   "cell_type": "code",
   "execution_count": 64,
   "id": "99529d2e-b668-4af5-ba9a-e5cf14da15a3",
   "metadata": {},
   "outputs": [],
   "source": [
    "i94cit_res_df = pd.DataFrame(i94cit_res.items(), columns=['City_Code', 'City'])"
   ]
  },
  {
   "cell_type": "code",
   "execution_count": 65,
   "id": "db8c1520-70d3-4e9f-8511-c417545ad1da",
   "metadata": {},
   "outputs": [
    {
     "data": {
      "text/html": [
       "<div>\n",
       "<style scoped>\n",
       "    .dataframe tbody tr th:only-of-type {\n",
       "        vertical-align: middle;\n",
       "    }\n",
       "\n",
       "    .dataframe tbody tr th {\n",
       "        vertical-align: top;\n",
       "    }\n",
       "\n",
       "    .dataframe thead th {\n",
       "        text-align: right;\n",
       "    }\n",
       "</style>\n",
       "<table border=\"1\" class=\"dataframe\">\n",
       "  <thead>\n",
       "    <tr style=\"text-align: right;\">\n",
       "      <th></th>\n",
       "      <th>City_Code</th>\n",
       "      <th>City</th>\n",
       "    </tr>\n",
       "  </thead>\n",
       "  <tbody>\n",
       "    <tr>\n",
       "      <th>0</th>\n",
       "      <td>582</td>\n",
       "      <td>MEXICO Air Sea, and Not Reported (I-94, no lan...</td>\n",
       "    </tr>\n",
       "    <tr>\n",
       "      <th>1</th>\n",
       "      <td>236</td>\n",
       "      <td>AFGHANISTAN</td>\n",
       "    </tr>\n",
       "    <tr>\n",
       "      <th>2</th>\n",
       "      <td>101</td>\n",
       "      <td>ALBANIA</td>\n",
       "    </tr>\n",
       "    <tr>\n",
       "      <th>3</th>\n",
       "      <td>316</td>\n",
       "      <td>ALGERIA</td>\n",
       "    </tr>\n",
       "    <tr>\n",
       "      <th>4</th>\n",
       "      <td>102</td>\n",
       "      <td>ANDORRA</td>\n",
       "    </tr>\n",
       "    <tr>\n",
       "      <th>...</th>\n",
       "      <td>...</td>\n",
       "      <td>...</td>\n",
       "    </tr>\n",
       "    <tr>\n",
       "      <th>284</th>\n",
       "      <td>791</td>\n",
       "      <td>No Country Code (791)</td>\n",
       "    </tr>\n",
       "    <tr>\n",
       "      <th>285</th>\n",
       "      <td>849</td>\n",
       "      <td>No Country Code (849)</td>\n",
       "    </tr>\n",
       "    <tr>\n",
       "      <th>286</th>\n",
       "      <td>914</td>\n",
       "      <td>No Country Code (914)</td>\n",
       "    </tr>\n",
       "    <tr>\n",
       "      <th>287</th>\n",
       "      <td>944</td>\n",
       "      <td>No Country Code (944)</td>\n",
       "    </tr>\n",
       "    <tr>\n",
       "      <th>288</th>\n",
       "      <td>996</td>\n",
       "      <td>No Country Code (996)</td>\n",
       "    </tr>\n",
       "  </tbody>\n",
       "</table>\n",
       "<p>289 rows × 2 columns</p>\n",
       "</div>"
      ],
      "text/plain": [
       "    City_Code                                               City\n",
       "0         582  MEXICO Air Sea, and Not Reported (I-94, no lan...\n",
       "1         236                                        AFGHANISTAN\n",
       "2         101                                            ALBANIA\n",
       "3         316                                            ALGERIA\n",
       "4         102                                            ANDORRA\n",
       "..        ...                                                ...\n",
       "284       791                              No Country Code (791)\n",
       "285       849                              No Country Code (849)\n",
       "286       914                              No Country Code (914)\n",
       "287       944                              No Country Code (944)\n",
       "288       996                              No Country Code (996)\n",
       "\n",
       "[289 rows x 2 columns]"
      ]
     },
     "execution_count": 65,
     "metadata": {},
     "output_type": "execute_result"
    }
   ],
   "source": [
    "i94cit_res_df"
   ]
  },
  {
   "cell_type": "code",
   "execution_count": 68,
   "id": "f5314831-7144-4e27-80b3-3aeb6cdd5d57",
   "metadata": {},
   "outputs": [],
   "source": [
    "pd.DataFrame(i94cit_res_df).to_csv('stage/i94cit_res_df.csv', index=False)"
   ]
  },
  {
   "cell_type": "markdown",
   "id": "7322256e-5dfb-4ad8-bca3-b6e778303a87",
   "metadata": {},
   "source": [
    "## Port"
   ]
  },
  {
   "cell_type": "code",
   "execution_count": 14,
   "id": "9999944c-245e-45fe-869b-0f4a3e427077",
   "metadata": {},
   "outputs": [],
   "source": [
    "i94port_df = pd.DataFrame(i94port.items(), columns=['Port_Code', 'Port'])"
   ]
  },
  {
   "cell_type": "code",
   "execution_count": 15,
   "id": "b8fcae2e-15d3-4626-b265-bd3fc7af2651",
   "metadata": {},
   "outputs": [
    {
     "data": {
      "text/html": [
       "<div>\n",
       "<style scoped>\n",
       "    .dataframe tbody tr th:only-of-type {\n",
       "        vertical-align: middle;\n",
       "    }\n",
       "\n",
       "    .dataframe tbody tr th {\n",
       "        vertical-align: top;\n",
       "    }\n",
       "\n",
       "    .dataframe thead th {\n",
       "        text-align: right;\n",
       "    }\n",
       "</style>\n",
       "<table border=\"1\" class=\"dataframe\">\n",
       "  <thead>\n",
       "    <tr style=\"text-align: right;\">\n",
       "      <th></th>\n",
       "      <th>Port_Code</th>\n",
       "      <th>Port</th>\n",
       "    </tr>\n",
       "  </thead>\n",
       "  <tbody>\n",
       "    <tr>\n",
       "      <th>0</th>\n",
       "      <td>ALC</td>\n",
       "      <td>ALCAN, AK</td>\n",
       "    </tr>\n",
       "    <tr>\n",
       "      <th>1</th>\n",
       "      <td>ANC</td>\n",
       "      <td>ANCHORAGE, AK</td>\n",
       "    </tr>\n",
       "    <tr>\n",
       "      <th>2</th>\n",
       "      <td>BAR</td>\n",
       "      <td>BAKER AAF - BAKER ISLAND, AK</td>\n",
       "    </tr>\n",
       "    <tr>\n",
       "      <th>3</th>\n",
       "      <td>DAC</td>\n",
       "      <td>DALTONS CACHE, AK</td>\n",
       "    </tr>\n",
       "    <tr>\n",
       "      <th>4</th>\n",
       "      <td>PIZ</td>\n",
       "      <td>DEW STATION PT LAY DEW, AK</td>\n",
       "    </tr>\n",
       "    <tr>\n",
       "      <th>...</th>\n",
       "      <td>...</td>\n",
       "      <td>...</td>\n",
       "    </tr>\n",
       "    <tr>\n",
       "      <th>655</th>\n",
       "      <td>ADU</td>\n",
       "      <td>No PORT Code (ADU)</td>\n",
       "    </tr>\n",
       "    <tr>\n",
       "      <th>656</th>\n",
       "      <td>AKT</td>\n",
       "      <td>No PORT Code (AKT)</td>\n",
       "    </tr>\n",
       "    <tr>\n",
       "      <th>657</th>\n",
       "      <td>LIT</td>\n",
       "      <td>No PORT Code (LIT)</td>\n",
       "    </tr>\n",
       "    <tr>\n",
       "      <th>658</th>\n",
       "      <td>A2A</td>\n",
       "      <td>No PORT Code (A2A)</td>\n",
       "    </tr>\n",
       "    <tr>\n",
       "      <th>659</th>\n",
       "      <td>OSN</td>\n",
       "      <td>No PORT Code (OSN)</td>\n",
       "    </tr>\n",
       "  </tbody>\n",
       "</table>\n",
       "<p>660 rows × 2 columns</p>\n",
       "</div>"
      ],
      "text/plain": [
       "    Port_Code                          Port\n",
       "0         ALC                     ALCAN, AK\n",
       "1         ANC                 ANCHORAGE, AK\n",
       "2         BAR  BAKER AAF - BAKER ISLAND, AK\n",
       "3         DAC             DALTONS CACHE, AK\n",
       "4         PIZ    DEW STATION PT LAY DEW, AK\n",
       "..        ...                           ...\n",
       "655       ADU            No PORT Code (ADU)\n",
       "656       AKT            No PORT Code (AKT)\n",
       "657       LIT            No PORT Code (LIT)\n",
       "658       A2A            No PORT Code (A2A)\n",
       "659       OSN            No PORT Code (OSN)\n",
       "\n",
       "[660 rows x 2 columns]"
      ]
     },
     "execution_count": 15,
     "metadata": {},
     "output_type": "execute_result"
    }
   ],
   "source": [
    "i94port_df"
   ]
  },
  {
   "cell_type": "code",
   "execution_count": 16,
   "id": "8fcdc056-be23-4922-88f3-d6d9fdbb68c1",
   "metadata": {},
   "outputs": [],
   "source": [
    "pd.DataFrame(i94port_df).to_csv('stage/i94port_df.csv', index=False)"
   ]
  },
  {
   "cell_type": "code",
   "execution_count": 17,
   "id": "5ef44bdf-50eb-4fbd-aab2-4426ad24a04f",
   "metadata": {},
   "outputs": [],
   "source": [
    "port_df = spark.read.option(\"header\",True).csv(\"stage/i94port_df.csv\")"
   ]
  },
  {
   "cell_type": "code",
   "execution_count": 18,
   "id": "0296d772-d29f-4d68-be26-8b220debbd46",
   "metadata": {},
   "outputs": [],
   "source": [
    "port_df = port_df.withColumnRenamed(\"Port_Code\",\"port_code\")\\\n",
    "                .withColumnRenamed(\"Port\",\"port\")"
   ]
  },
  {
   "cell_type": "code",
   "execution_count": 24,
   "id": "2b247918-62ec-4751-bf53-baa900ef5ae2",
   "metadata": {},
   "outputs": [
    {
     "name": "stderr",
     "output_type": "stream",
     "text": [
      "                                                                                \r"
     ]
    }
   ],
   "source": [
    "port_df.write.mode(\"overwrite\").option(\"header\",\"true\").parquet(\"s3a://ohmohmprde/\" + \"df_i94port\")"
   ]
  },
  {
   "cell_type": "code",
   "execution_count": null,
   "id": "d2680992-8951-4916-8ea7-642e2b0e1acf",
   "metadata": {},
   "outputs": [],
   "source": [
    "port_df = spark.read.parquet(\"s3a://ohmohmprde/df_i94port\")"
   ]
  },
  {
   "cell_type": "code",
   "execution_count": 93,
   "id": "087c0f17-433a-4994-ba17-6af72fed860a",
   "metadata": {},
   "outputs": [
    {
     "name": "stdout",
     "output_type": "stream",
     "text": [
      "root\n",
      " |-- port_code: string (nullable = true)\n",
      " |-- port: string (nullable = true)\n",
      "\n"
     ]
    }
   ],
   "source": [
    "port_df.printSchema()"
   ]
  },
  {
   "cell_type": "code",
   "execution_count": 94,
   "id": "f2decde1-9b8f-4c28-8d13-bc203bc4959f",
   "metadata": {},
   "outputs": [
    {
     "name": "stderr",
     "output_type": "stream",
     "text": [
      "[Stage 71:>                                                         (0 + 1) / 1]\r"
     ]
    },
    {
     "name": "stdout",
     "output_type": "stream",
     "text": [
      "+---------+--------------------+\n",
      "|port_code|                port|\n",
      "+---------+--------------------+\n",
      "|      ALC|           ALCAN, AK|\n",
      "|      ANC|       ANCHORAGE, AK|\n",
      "|      BAR|BAKER AAF - BAKER...|\n",
      "|      DAC|   DALTONS CACHE, AK|\n",
      "|      PIZ|DEW STATION PT LA...|\n",
      "|      DTH|    DUTCH HARBOR, AK|\n",
      "|      EGL|           EAGLE, AK|\n",
      "|      FRB|       FAIRBANKS, AK|\n",
      "|      HOM|           HOMER, AK|\n",
      "|      HYD|           HYDER, AK|\n",
      "|      JUN|          JUNEAU, AK|\n",
      "|      5KE|       KETCHIKAN, AK|\n",
      "|      KET|       KETCHIKAN, AK|\n",
      "|      MOS|MOSES POINT INTER...|\n",
      "|      NIK|         NIKISKI, AK|\n",
      "|      NOM|             NOM, AK|\n",
      "|      PKC|     POKER CREEK, AK|\n",
      "|      ORI|  PORT LIONS SPB, AK|\n",
      "|      SKA|         SKAGWAY, AK|\n",
      "|      SNP| ST. PAUL ISLAND, AK|\n",
      "+---------+--------------------+\n",
      "only showing top 20 rows\n",
      "\n"
     ]
    },
    {
     "name": "stderr",
     "output_type": "stream",
     "text": [
      "                                                                                \r"
     ]
    }
   ],
   "source": [
    "port_df.show()"
   ]
  },
  {
   "cell_type": "markdown",
   "id": "1a438da1-6e0b-48a3-9325-085ad426b74d",
   "metadata": {},
   "source": [
    "## Mode"
   ]
  },
  {
   "cell_type": "code",
   "execution_count": 70,
   "id": "36be2c51-1efb-428a-afe6-1475dbe902df",
   "metadata": {},
   "outputs": [],
   "source": [
    "i94mode_df = pd.DataFrame(i94mode.items(), columns=['Transport_Code', 'Transport_Type'])"
   ]
  },
  {
   "cell_type": "code",
   "execution_count": 71,
   "id": "c5c93527-f7bd-41f5-a9df-3dfcaa295146",
   "metadata": {},
   "outputs": [
    {
     "data": {
      "text/html": [
       "<div>\n",
       "<style scoped>\n",
       "    .dataframe tbody tr th:only-of-type {\n",
       "        vertical-align: middle;\n",
       "    }\n",
       "\n",
       "    .dataframe tbody tr th {\n",
       "        vertical-align: top;\n",
       "    }\n",
       "\n",
       "    .dataframe thead th {\n",
       "        text-align: right;\n",
       "    }\n",
       "</style>\n",
       "<table border=\"1\" class=\"dataframe\">\n",
       "  <thead>\n",
       "    <tr style=\"text-align: right;\">\n",
       "      <th></th>\n",
       "      <th>Transport_Code</th>\n",
       "      <th>Transport_Type</th>\n",
       "    </tr>\n",
       "  </thead>\n",
       "  <tbody>\n",
       "    <tr>\n",
       "      <th>0</th>\n",
       "      <td>1</td>\n",
       "      <td>Air</td>\n",
       "    </tr>\n",
       "    <tr>\n",
       "      <th>1</th>\n",
       "      <td>2</td>\n",
       "      <td>Sea</td>\n",
       "    </tr>\n",
       "    <tr>\n",
       "      <th>2</th>\n",
       "      <td>3</td>\n",
       "      <td>Land</td>\n",
       "    </tr>\n",
       "    <tr>\n",
       "      <th>3</th>\n",
       "      <td>9</td>\n",
       "      <td>Not reported</td>\n",
       "    </tr>\n",
       "  </tbody>\n",
       "</table>\n",
       "</div>"
      ],
      "text/plain": [
       "  Transport_Code Transport_Type\n",
       "0              1            Air\n",
       "1              2            Sea\n",
       "2              3           Land\n",
       "3              9   Not reported"
      ]
     },
     "execution_count": 71,
     "metadata": {},
     "output_type": "execute_result"
    }
   ],
   "source": [
    "i94mode_df"
   ]
  },
  {
   "cell_type": "code",
   "execution_count": 72,
   "id": "63d4b2bb-cf08-4422-bb1b-738804ea4895",
   "metadata": {},
   "outputs": [],
   "source": [
    "pd.DataFrame(i94mode_df).to_csv('stage/i94mode_df.csv', index=False)"
   ]
  },
  {
   "cell_type": "markdown",
   "id": "e7884439-3f56-4e32-8d8e-f96c688ae947",
   "metadata": {},
   "source": [
    "## ADDR"
   ]
  },
  {
   "cell_type": "code",
   "execution_count": 73,
   "id": "9edb1a1a-ff8f-4df6-836d-4e30b66295e0",
   "metadata": {},
   "outputs": [],
   "source": [
    "i94addr_df = pd.DataFrame(i94addr.items(), columns=['abbreviation_code', 'fullname_state'])"
   ]
  },
  {
   "cell_type": "code",
   "execution_count": null,
   "id": "5445df73-9f0c-4a43-b1ce-635f26cc2c1a",
   "metadata": {},
   "outputs": [],
   "source": [
    "i94addr_df(2)"
   ]
  },
  {
   "cell_type": "code",
   "execution_count": 75,
   "id": "fafd9e49-cd2a-43ec-8543-890f10ae3e4c",
   "metadata": {},
   "outputs": [],
   "source": [
    "pd.DataFrame(i94addr_df).to_csv('stage/i94addr_df.csv', index=False)"
   ]
  },
  {
   "cell_type": "code",
   "execution_count": 83,
   "id": "486f6be3-2992-4ba2-ba35-44b498d40dea",
   "metadata": {},
   "outputs": [],
   "source": [
    "addr_df = spark.read.option(\"header\",True).csv(\"stage/i94addr_df.csv\")"
   ]
  },
  {
   "cell_type": "code",
   "execution_count": null,
   "id": "205107b2-d2d9-4c7e-a96e-9ef5e4683887",
   "metadata": {},
   "outputs": [],
   "source": [
    "addr_df.write.mode(\"overwrite\").option(\"header\",\"true\").parquet(\"s3a://ohmohmprde/\" + \"df_i94addr\")"
   ]
  },
  {
   "cell_type": "code",
   "execution_count": 84,
   "id": "8500fabd-97f8-4054-98bd-6e27637ce967",
   "metadata": {},
   "outputs": [
    {
     "name": "stderr",
     "output_type": "stream",
     "text": [
      "21/08/03 00:25:54 WARN MetricsConfig: Cannot locate configuration: tried hadoop-metrics2-s3a-file-system.properties,hadoop-metrics2.properties\n",
      "                                                                                \r"
     ]
    }
   ],
   "source": [
    "addr_df = spark.read.parquet(\"s3a://ohmohmprde/df_i94addr\")"
   ]
  },
  {
   "cell_type": "code",
   "execution_count": 85,
   "id": "191796ea-aed0-4ff7-8b59-1b2a5935decc",
   "metadata": {},
   "outputs": [
    {
     "name": "stderr",
     "output_type": "stream",
     "text": [
      "[Stage 66:>                                                         (0 + 1) / 1]\r"
     ]
    },
    {
     "name": "stdout",
     "output_type": "stream",
     "text": [
      "+-----------------+-----------------+\n",
      "|abbreviation_code|   fullname_state|\n",
      "+-----------------+-----------------+\n",
      "|               AL|          ALABAMA|\n",
      "|               AK|           ALASKA|\n",
      "|               AZ|          ARIZONA|\n",
      "|               AR|         ARKANSAS|\n",
      "|               CA|       CALIFORNIA|\n",
      "|               CO|         COLORADO|\n",
      "|               CT|      CONNECTICUT|\n",
      "|               DE|         DELAWARE|\n",
      "|               DC|DIST. OF COLUMBIA|\n",
      "|               FL|          FLORIDA|\n",
      "|               GA|          GEORGIA|\n",
      "|               GU|             GUAM|\n",
      "|               HI|           HAWAII|\n",
      "|               ID|            IDAHO|\n",
      "|               IL|         ILLINOIS|\n",
      "|               IN|          INDIANA|\n",
      "|               IA|             IOWA|\n",
      "|               KS|           KANSAS|\n",
      "|               KY|         KENTUCKY|\n",
      "|               LA|        LOUISIANA|\n",
      "+-----------------+-----------------+\n",
      "only showing top 20 rows\n",
      "\n"
     ]
    },
    {
     "name": "stderr",
     "output_type": "stream",
     "text": [
      "                                                                                \r"
     ]
    }
   ],
   "source": [
    "addr_df.show()"
   ]
  },
  {
   "cell_type": "code",
   "execution_count": 86,
   "id": "c15589d3-379e-48ef-a131-b043f6741be9",
   "metadata": {},
   "outputs": [
    {
     "name": "stdout",
     "output_type": "stream",
     "text": [
      "root\n",
      " |-- abbreviation_code: string (nullable = true)\n",
      " |-- fullname_state: string (nullable = true)\n",
      "\n"
     ]
    }
   ],
   "source": [
    "addr_df.printSchema()"
   ]
  },
  {
   "cell_type": "markdown",
   "id": "ea1048c8-8ee8-45e2-a36d-847445a8b2a6",
   "metadata": {},
   "source": [
    "## VISA"
   ]
  },
  {
   "cell_type": "code",
   "execution_count": 76,
   "id": "8f59875c-eea4-4a88-9d47-c0698aed9f79",
   "metadata": {},
   "outputs": [],
   "source": [
    "i94visa_df = pd.DataFrame(i94visa.items(), columns=['Visa_Code', 'Reason'])"
   ]
  },
  {
   "cell_type": "code",
   "execution_count": 77,
   "id": "b9ebdef7-16ba-4260-bce2-f050c086eea4",
   "metadata": {},
   "outputs": [
    {
     "data": {
      "text/html": [
       "<div>\n",
       "<style scoped>\n",
       "    .dataframe tbody tr th:only-of-type {\n",
       "        vertical-align: middle;\n",
       "    }\n",
       "\n",
       "    .dataframe tbody tr th {\n",
       "        vertical-align: top;\n",
       "    }\n",
       "\n",
       "    .dataframe thead th {\n",
       "        text-align: right;\n",
       "    }\n",
       "</style>\n",
       "<table border=\"1\" class=\"dataframe\">\n",
       "  <thead>\n",
       "    <tr style=\"text-align: right;\">\n",
       "      <th></th>\n",
       "      <th>Visa_Code</th>\n",
       "      <th>Reason</th>\n",
       "    </tr>\n",
       "  </thead>\n",
       "  <tbody>\n",
       "    <tr>\n",
       "      <th>0</th>\n",
       "      <td>1</td>\n",
       "      <td>Business</td>\n",
       "    </tr>\n",
       "    <tr>\n",
       "      <th>1</th>\n",
       "      <td>2</td>\n",
       "      <td>Pleasure</td>\n",
       "    </tr>\n",
       "    <tr>\n",
       "      <th>2</th>\n",
       "      <td>3</td>\n",
       "      <td>Student</td>\n",
       "    </tr>\n",
       "  </tbody>\n",
       "</table>\n",
       "</div>"
      ],
      "text/plain": [
       "  Visa_Code    Reason\n",
       "0         1  Business\n",
       "1         2  Pleasure\n",
       "2         3   Student"
      ]
     },
     "execution_count": 77,
     "metadata": {},
     "output_type": "execute_result"
    }
   ],
   "source": [
    "i94visa_df"
   ]
  },
  {
   "cell_type": "code",
   "execution_count": 78,
   "id": "58810ad6-b74a-44f9-b7de-c0e4b75f3a6c",
   "metadata": {},
   "outputs": [],
   "source": [
    "pd.DataFrame(i94visa_df).to_csv('stage/i94visa_df.csv', index=False)"
   ]
  },
  {
   "cell_type": "code",
   "execution_count": 79,
   "id": "135ace7f-75f3-4669-b71f-fbc54b0a94bd",
   "metadata": {},
   "outputs": [],
   "source": [
    "visa_df = spark.read.option(\"header\",True).csv(\"stage/i94visa_df.csv\")"
   ]
  },
  {
   "cell_type": "code",
   "execution_count": 80,
   "id": "06b3f9cf-db3a-4aa9-bd17-dd64b229a50a",
   "metadata": {},
   "outputs": [],
   "source": [
    "visa_df = visa_df.withColumnRenamed(\"Visa_Code\",\"visa_code\")\\\n",
    "                .withColumnRenamed(\"Reason\",\"reason\")"
   ]
  },
  {
   "cell_type": "code",
   "execution_count": null,
   "id": "32c16a82-bc50-4b31-a675-cea2a195e967",
   "metadata": {},
   "outputs": [],
   "source": [
    "visa_df.write.mode(\"overwrite\").option(\"header\",\"true\").parquet(\"s3a://ohmohmprde/\" + \"df_i94visa\")"
   ]
  },
  {
   "cell_type": "code",
   "execution_count": null,
   "id": "b4499cd2-6e67-4fae-9a57-5dbaa10cac17",
   "metadata": {},
   "outputs": [],
   "source": [
    "visa_df = spark.read.parquet(\"s3a://ohmohmprde/df_i94visa\")"
   ]
  },
  {
   "cell_type": "code",
   "execution_count": 81,
   "id": "75a8460e-5662-4fcb-b5b9-3abc1736430c",
   "metadata": {},
   "outputs": [
    {
     "name": "stdout",
     "output_type": "stream",
     "text": [
      "+---------+--------+\n",
      "|visa_code|  reason|\n",
      "+---------+--------+\n",
      "|        1|Business|\n",
      "|        2|Pleasure|\n",
      "|        3| Student|\n",
      "+---------+--------+\n",
      "\n"
     ]
    }
   ],
   "source": [
    "visa_df.show()"
   ]
  },
  {
   "cell_type": "code",
   "execution_count": 82,
   "id": "9b501fb7-7caf-43a9-8cbb-8c17fcc458ee",
   "metadata": {},
   "outputs": [
    {
     "name": "stdout",
     "output_type": "stream",
     "text": [
      "root\n",
      " |-- visa_code: string (nullable = true)\n",
      " |-- reason: string (nullable = true)\n",
      "\n"
     ]
    }
   ],
   "source": [
    "visa_df.printSchema()"
   ]
  },
  {
   "cell_type": "markdown",
   "id": "d856da82-96e0-4771-a7fa-0da35673a2f7",
   "metadata": {},
   "source": [
    "# Production DEMOGRAPHICS"
   ]
  },
  {
   "cell_type": "code",
   "execution_count": null,
   "id": "6ba8cea0-1a15-4149-b3a2-93a7200bd5c2",
   "metadata": {},
   "outputs": [],
   "source": [
    "from pyspark.sql.types import IntegerType"
   ]
  },
  {
   "cell_type": "code",
   "execution_count": null,
   "id": "1da39f83-af0d-48e8-acb5-a55e95920685",
   "metadata": {},
   "outputs": [],
   "source": [
    "demographics_df = spark.read.option(\"header\",True).options(delimiter=';').csv(\"data/us-cities-demographics.csv\") "
   ]
  },
  {
   "cell_type": "code",
   "execution_count": null,
   "id": "4520eaa1-1228-405e-86dc-cd6bc1c6f87b",
   "metadata": {},
   "outputs": [],
   "source": [
    "demographics_df.filter(demographics_df[\"State Code\"] == \"TN\").sort(demographics_df[\"City\"].asc()).show()"
   ]
  },
  {
   "cell_type": "code",
   "execution_count": null,
   "id": "a35e907e-e44a-4f00-85cb-63503e3a7aa3",
   "metadata": {},
   "outputs": [],
   "source": [
    "demographics_df_main = demographics_df.select(\"State Code\", \"State\", \"City\", \"Male Population\", \"Female Population\", \"Total Population\", \"Number of Veterans\", \"Foreign-born\")"
   ]
  },
  {
   "cell_type": "code",
   "execution_count": null,
   "id": "3c1c02a8-8783-4aa4-b2cf-f1e12209a2c8",
   "metadata": {},
   "outputs": [],
   "source": [
    "demographics_df_main = demographics_df_main.dropDuplicates()"
   ]
  },
  {
   "cell_type": "code",
   "execution_count": null,
   "id": "18ec086f-a919-413e-88dc-da611265801d",
   "metadata": {},
   "outputs": [],
   "source": [
    "demographics_df_main.count() ## select only city and state "
   ]
  },
  {
   "cell_type": "code",
   "execution_count": null,
   "id": "d11807b8-7aad-4ef9-9700-307fdd2e7ba5",
   "metadata": {},
   "outputs": [],
   "source": [
    "demographics_df_main.filter(demographics_df_main[\"State Code\"] == \"TN\").sort(demographics_df_main[\"City\"].asc()).show()"
   ]
  },
  {
   "cell_type": "code",
   "execution_count": null,
   "id": "9a8d86a5-f0de-47b0-9007-0e816c596382",
   "metadata": {},
   "outputs": [],
   "source": [
    "demographics_df_main = demographics_df_main.withColumn(\"Male Population\", demographics_df_main[\"Male Population\"].cast(IntegerType()))\\\n",
    "                                        .withColumn(\"Female Population\", demographics_df_main[\"Female Population\"].cast(IntegerType()))\\\n",
    "                                        .withColumn(\"Total Population\", demographics_df_main[\"Total Population\"].cast(IntegerType()))\\\n",
    "                                        .withColumn(\"Number of Veterans\", demographics_df_main[\"Number of Veterans\"].cast(IntegerType()))\\\n",
    "                                        .withColumn(\"Foreign-born\", demographics_df_main[\"Foreign-born\"].cast(IntegerType()))"
   ]
  },
  {
   "cell_type": "code",
   "execution_count": null,
   "id": "58a12654-b989-4d39-ae46-692b9403f9e3",
   "metadata": {},
   "outputs": [],
   "source": [
    "demographics_df_main = demographics_df_main.groupBy(\"State Code\").sum(\"Total Population\",\"Male Population\", \"Female Population\", \"Number of Veterans\",  \"Foreign-born\")"
   ]
  },
  {
   "cell_type": "code",
   "execution_count": null,
   "id": "74a18827-e22b-459b-acf5-38892842e9c6",
   "metadata": {},
   "outputs": [],
   "source": [
    "demographics_df_main = demographics_df_main.withColumnRenamed(\"State Code\",\"state_code\")\\\n",
    "                                        .withColumnRenamed(\"State\",\"state\")\\\n",
    "                                        .withColumnRenamed(\"City\",\"city\")\\\n",
    "                                        .withColumnRenamed(\"sum(Total Population)\",\"total_population\")\\\n",
    "                                        .withColumnRenamed(\"sum(Male Population)\",\"male_population\")\\\n",
    "                                        .withColumnRenamed(\"sum(Female Population)\",\"female_population\")\\\n",
    "                                        .withColumnRenamed(\"sum(Number of Veterans)\",\"number_of_veterans\")\\\n",
    "                                        .withColumnRenamed(\"sum(Foreign-born)\",\"foreign_born\")"
   ]
  },
  {
   "cell_type": "code",
   "execution_count": null,
   "id": "bf765a5c-d6fd-4a71-b812-d83b9fbba8e4",
   "metadata": {},
   "outputs": [],
   "source": [
    "demographics_df_main.sort(demographics_df_main[\"state_code\"].asc()).show()"
   ]
  },
  {
   "cell_type": "code",
   "execution_count": null,
   "id": "01c632bc-f01a-423c-a3a6-f813f55e04dc",
   "metadata": {},
   "outputs": [],
   "source": [
    "demographics_df_main.groupBy().sum(\"total_population\").show()"
   ]
  },
  {
   "cell_type": "code",
   "execution_count": null,
   "id": "41a319c2-eeb4-4413-870d-d94407dc3717",
   "metadata": {},
   "outputs": [],
   "source": [
    "demographics_df_race = demographics_df.select(\"State Code\", \"City\", \"State\", \"Race\", \"Count\")"
   ]
  },
  {
   "cell_type": "code",
   "execution_count": null,
   "id": "e4c08813-8906-4cc7-8263-78550139abcd",
   "metadata": {},
   "outputs": [],
   "source": [
    "demographics_df_race = demographics_df_race.withColumnRenamed(\"State Code\",\"state_code_r\")\\\n",
    "                                        .withColumnRenamed(\"City\",\"city_r\")\\\n",
    "                                        .withColumnRenamed(\"State\",\"state_r\")\\\n",
    "                                        .withColumnRenamed(\"Race\",\"race\")\\\n",
    "                                        .withColumnRenamed(\"Count\",\"count\")"
   ]
  },
  {
   "cell_type": "code",
   "execution_count": null,
   "id": "36d160c4-4257-4e4a-988f-fa86f5a20eab",
   "metadata": {},
   "outputs": [],
   "source": [
    "demographics_df_race.filter(demographics_df_race[\"state_code_r\"] == \"TN\").sort(demographics_df_race[\"city_r\"].asc()).show()"
   ]
  },
  {
   "cell_type": "code",
   "execution_count": null,
   "id": "5f10187d-6ea6-41d5-834e-e0b864b2ef5b",
   "metadata": {},
   "outputs": [],
   "source": [
    "demographics_df_race.count()"
   ]
  },
  {
   "cell_type": "code",
   "execution_count": null,
   "id": "bd6da502-40f4-4601-ae7b-3d6642bb88f3",
   "metadata": {},
   "outputs": [],
   "source": [
    "demographics_df_race = demographics_df_race.withColumn(\"count\", demographics_df_race[\"count\"].cast(IntegerType()))"
   ]
  },
  {
   "cell_type": "code",
   "execution_count": null,
   "id": "09f81b51-60f5-419c-ba82-184d1f3ae4f1",
   "metadata": {},
   "outputs": [],
   "source": [
    "demographics_df_race = demographics_df_race.groupBy(\"state_code_r\").pivot(\"race\").sum(\"count\")"
   ]
  },
  {
   "cell_type": "code",
   "execution_count": null,
   "id": "51d4435a-7fe1-49ee-8ce5-8cbaf8f13b19",
   "metadata": {},
   "outputs": [],
   "source": [
    "demographics_df_race.sort(demographics_df_race[\"state_code_r\"].asc()).show()"
   ]
  },
  {
   "cell_type": "code",
   "execution_count": null,
   "id": "3982a417-46a2-4af8-8071-f02f04f8f6c9",
   "metadata": {},
   "outputs": [],
   "source": [
    "demographics_df_by_state = demographics_df_main.join(demographics_df_race,demographics_df_main[\"state_code\"] ==  demographics_df_race[\"state_code_r\"],\"inner\")"
   ]
  },
  {
   "cell_type": "code",
   "execution_count": null,
   "id": "537c10c7-e5a7-40e8-9e4b-47db8fda03fa",
   "metadata": {},
   "outputs": [],
   "source": [
    "demographics_df_by_state = demographics_df_by_state.drop(\"state_code_r\")"
   ]
  },
  {
   "cell_type": "code",
   "execution_count": null,
   "id": "aaec1973-ed13-49a3-9a95-d0760f0420e6",
   "metadata": {},
   "outputs": [],
   "source": [
    "demographics_df_by_state = demographics_df_by_state.withColumnRenamed(\"American Indian and Alaska Native\",\"american_indian_and_alaska_native\")\\\n",
    "                                        .withColumnRenamed(\"Asian\",\"asian\")\\\n",
    "                                        .withColumnRenamed(\"Black or African-American\",\"black_or_african_american\")\\\n",
    "                                        .withColumnRenamed(\"Hispanic or Latino\",\"hispanic_or_latino\")\\\n",
    "                                        .withColumnRenamed(\"White\",\"white\")"
   ]
  },
  {
   "cell_type": "code",
   "execution_count": null,
   "id": "0d85be6f-b77f-4842-a6e8-db98aa9cd2d2",
   "metadata": {},
   "outputs": [],
   "source": [
    "demographics_df_by_state.show()"
   ]
  },
  {
   "cell_type": "code",
   "execution_count": null,
   "id": "78f59887-01b1-4258-bbf2-64e7146facf9",
   "metadata": {},
   "outputs": [],
   "source": [
    "demographics_df_by_state.count()"
   ]
  },
  {
   "cell_type": "code",
   "execution_count": null,
   "id": "14405de5-91c8-4fdb-aa08-940784f40b10",
   "metadata": {},
   "outputs": [],
   "source": [
    "demographics_df_by_state.printSchema()"
   ]
  },
  {
   "cell_type": "code",
   "execution_count": null,
   "id": "219c4bb0-64ed-4fac-8caa-fec6a7bae3fc",
   "metadata": {},
   "outputs": [],
   "source": [
    "demographics_df_by_state = demographics_df_by_state.sort(demographics_df_by_state[\"state_code\"].asc())"
   ]
  },
  {
   "cell_type": "code",
   "execution_count": null,
   "id": "e8e229d6-fb99-462c-8e9b-253e875c11e1",
   "metadata": {},
   "outputs": [],
   "source": [
    "demographics_df_by_state.coalesce(1).write.mode('overwrite').csv('demographics_df_by_state')"
   ]
  },
  {
   "cell_type": "code",
   "execution_count": null,
   "id": "b89539ce-71eb-4351-a449-667883b4c9c2",
   "metadata": {},
   "outputs": [],
   "source": [
    "demographics_df_by_state.write.mode(\"overwrite\").option(\"header\",\"true\").parquet(\"s3a://ohmohmprde/\" + \"df_demo\")"
   ]
  },
  {
   "cell_type": "markdown",
   "id": "06d10511-7885-4e71-9e35-2f36750fff6e",
   "metadata": {},
   "source": [
    "## test read s3"
   ]
  },
  {
   "cell_type": "code",
   "execution_count": 25,
   "id": "79911a96-032a-497e-afa8-00f0b2a84f60",
   "metadata": {},
   "outputs": [
    {
     "name": "stderr",
     "output_type": "stream",
     "text": [
      "                                                                                \r"
     ]
    }
   ],
   "source": [
    "test_df = spark.read.parquet(\"s3a://ohmohmprde/df_immigration/i94yr_partition=2016.0/i94mon_partition=9.0/\")"
   ]
  },
  {
   "cell_type": "code",
   "execution_count": 9,
   "id": "c7ce48f7-5f57-4ca2-9ce5-71d0cfa39aaa",
   "metadata": {},
   "outputs": [
    {
     "name": "stderr",
     "output_type": "stream",
     "text": [
      "                                                                                \r"
     ]
    }
   ],
   "source": [
    "test_df = spark.read.parquet(\"s3a://ohmohmprde/df_i94port\")"
   ]
  },
  {
   "cell_type": "code",
   "execution_count": 26,
   "id": "ff298876-ae4e-425c-9ca7-96256573c53c",
   "metadata": {},
   "outputs": [
    {
     "name": "stderr",
     "output_type": "stream",
     "text": [
      "                                                                                \r"
     ]
    },
    {
     "data": {
      "text/plain": [
       "1768505"
      ]
     },
     "execution_count": 26,
     "metadata": {},
     "output_type": "execute_result"
    }
   ],
   "source": [
    "test_df.count()"
   ]
  },
  {
   "cell_type": "code",
   "execution_count": 10,
   "id": "e2d3e1ce-2199-4f31-9c11-4f1f5c45ae0c",
   "metadata": {},
   "outputs": [
    {
     "name": "stdout",
     "output_type": "stream",
     "text": [
      "root\n",
      " |-- port_code: string (nullable = true)\n",
      " |-- port: string (nullable = true)\n",
      "\n"
     ]
    }
   ],
   "source": [
    "test_df.printSchema()"
   ]
  },
  {
   "cell_type": "code",
   "execution_count": 11,
   "id": "5f2f6e8e-f837-442a-8088-f718736e28a9",
   "metadata": {},
   "outputs": [
    {
     "name": "stderr",
     "output_type": "stream",
     "text": [
      "[Stage 1:>                                                          (0 + 1) / 1]\r"
     ]
    },
    {
     "name": "stdout",
     "output_type": "stream",
     "text": [
      "+---------+--------------------+\n",
      "|port_code|                port|\n",
      "+---------+--------------------+\n",
      "|      ALC|           ALCAN, AK|\n",
      "|      ANC|       ANCHORAGE, AK|\n",
      "|      BAR|BAKER AAF - BAKER...|\n",
      "|      DAC|   DALTONS CACHE, AK|\n",
      "|      PIZ|DEW STATION PT LA...|\n",
      "|      DTH|    DUTCH HARBOR, AK|\n",
      "|      EGL|           EAGLE, AK|\n",
      "|      FRB|       FAIRBANKS, AK|\n",
      "|      HOM|           HOMER, AK|\n",
      "|      HYD|           HYDER, AK|\n",
      "|      JUN|          JUNEAU, AK|\n",
      "|      5KE|       KETCHIKAN, AK|\n",
      "|      KET|       KETCHIKAN, AK|\n",
      "|      MOS|MOSES POINT INTER...|\n",
      "|      NIK|         NIKISKI, AK|\n",
      "|      NOM|             NOM, AK|\n",
      "|      PKC|     POKER CREEK, AK|\n",
      "|      ORI|  PORT LIONS SPB, AK|\n",
      "|      SKA|         SKAGWAY, AK|\n",
      "|      SNP| ST. PAUL ISLAND, AK|\n",
      "+---------+--------------------+\n",
      "only showing top 20 rows\n",
      "\n"
     ]
    },
    {
     "name": "stderr",
     "output_type": "stream",
     "text": [
      "                                                                                \r"
     ]
    }
   ],
   "source": [
    "test_df.show()"
   ]
  },
  {
   "cell_type": "code",
   "execution_count": null,
   "id": "e9bf0b4c-cbca-4c34-93fd-f812f014ed12",
   "metadata": {},
   "outputs": [],
   "source": [
    "test_df.sort(test_df[\"cicid\"].desc()).show()"
   ]
  }
 ],
 "metadata": {
  "kernelspec": {
   "display_name": "Python 3 (ipykernel)",
   "language": "python",
   "name": "python3"
  },
  "language_info": {
   "codemirror_mode": {
    "name": "ipython",
    "version": 3
   },
   "file_extension": ".py",
   "mimetype": "text/x-python",
   "name": "python",
   "nbconvert_exporter": "python",
   "pygments_lexer": "ipython3",
   "version": "3.9.6"
  }
 },
 "nbformat": 4,
 "nbformat_minor": 5
}
